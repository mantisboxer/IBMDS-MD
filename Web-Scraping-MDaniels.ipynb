{
 "cells": [
  {
   "cell_type": "markdown",
   "metadata": {},
   "source": [
    "<center>\n",
    "    <img src=\"https://gitlab.com/ibm/skills-network/courses/placeholder101/-/raw/master/labs/module%201/images/IDSNlogo.png\" width=\"300\" alt=\"cognitiveclass.ai logo\"  />\n",
    "</center>\n"
   ]
  },
  {
   "cell_type": "markdown",
   "metadata": {},
   "source": [
    "# **Space X  Falcon 9 First Stage Landing Prediction**\n"
   ]
  },
  {
   "cell_type": "markdown",
   "metadata": {},
   "source": [
    "## Web scraping Falcon 9 and Falcon Heavy Launches Records from Wikipedia\n"
   ]
  },
  {
   "cell_type": "markdown",
   "metadata": {},
   "source": [
    "Estimated time needed: **40** minutes\n"
   ]
  },
  {
   "cell_type": "markdown",
   "metadata": {},
   "source": [
    "In this lab, you will be performing web scraping to collect Falcon 9 historical launch records from a Wikipedia page titled `List of Falcon 9 and Falcon Heavy launches`\n",
    "\n",
    "[https://en.wikipedia.org/wiki/List_of_Falcon\\_9\\_and_Falcon_Heavy_launches](https://en.wikipedia.org/wiki/List_of_Falcon\\_9\\_and_Falcon_Heavy_launches?utm_medium=Exinfluencer&utm_source=Exinfluencer&utm_content=000026UJ&utm_term=10006555&utm_id=NA-SkillsNetwork-Channel-SkillsNetworkCoursesIBMDS0321ENSkillsNetwork26802033-2021-01-01)\n"
   ]
  },
  {
   "cell_type": "markdown",
   "metadata": {},
   "source": [
    "![](https://cf-courses-data.s3.us.cloud-object-storage.appdomain.cloud/IBM-DS0321EN-SkillsNetwork/labs/module\\_1\\_L2/images/Falcon9\\_rocket_family.svg)\n"
   ]
  },
  {
   "cell_type": "markdown",
   "metadata": {},
   "source": [
    "Falcon 9 first stage will land successfully\n"
   ]
  },
  {
   "cell_type": "markdown",
   "metadata": {},
   "source": [
    "![](https://cf-courses-data.s3.us.cloud-object-storage.appdomain.cloud/IBMDeveloperSkillsNetwork-DS0701EN-SkillsNetwork/api/Images/landing\\_1.gif)\n"
   ]
  },
  {
   "cell_type": "markdown",
   "metadata": {},
   "source": [
    "Several examples of an unsuccessful landing are shown here:\n"
   ]
  },
  {
   "cell_type": "markdown",
   "metadata": {},
   "source": [
    "![](https://cf-courses-data.s3.us.cloud-object-storage.appdomain.cloud/IBMDeveloperSkillsNetwork-DS0701EN-SkillsNetwork/api/Images/crash.gif)\n"
   ]
  },
  {
   "cell_type": "markdown",
   "metadata": {},
   "source": [
    "More specifically, the launch records are stored in a HTML table shown below:\n"
   ]
  },
  {
   "cell_type": "markdown",
   "metadata": {},
   "source": [
    "![](https://cf-courses-data.s3.us.cloud-object-storage.appdomain.cloud/IBM-DS0321EN-SkillsNetwork/labs/module\\_1\\_L2/images/falcon9-launches-wiki.png)\n"
   ]
  },
  {
   "cell_type": "markdown",
   "metadata": {},
   "source": [
    "## Objectives\n",
    "\n",
    "Web scrap Falcon 9 launch records with `BeautifulSoup`:\n",
    "\n",
    "*   Extract a Falcon 9 launch records HTML table from Wikipedia\n",
    "*   Parse the table and convert it into a Pandas data frame\n"
   ]
  },
  {
   "cell_type": "markdown",
   "metadata": {},
   "source": [
    "First let's import required packages for this lab\n"
   ]
  },
  {
   "cell_type": "code",
   "execution_count": null,
   "metadata": {},
   "outputs": [],
   "source": [
    "!pip3 install beautifulsoup4\n",
    "!pip3 install requests"
   ]
  },
  {
   "cell_type": "code",
   "execution_count": 28,
   "metadata": {},
   "outputs": [],
   "source": [
    "import sys\n",
    "\n",
    "import requests\n",
    "from bs4 import BeautifulSoup\n",
    "import re\n",
    "import unicodedata\n",
    "import pandas as pd\n",
    "import lxml"
   ]
  },
  {
   "cell_type": "markdown",
   "metadata": {},
   "source": [
    "and we will provide some helper functions for you to process web scraped HTML table\n"
   ]
  },
  {
   "cell_type": "code",
   "execution_count": 29,
   "metadata": {},
   "outputs": [],
   "source": [
    "def date_time(table_cells):\n",
    "    \"\"\"\n",
    "    This function returns the data and time from the HTML  table cell\n",
    "    Input: the  element of a table data cell extracts extra row\n",
    "    \"\"\"\n",
    "    return [data_time.strip() for data_time in list(table_cells.strings)][0:2]\n",
    "\n",
    "def booster_version(table_cells):\n",
    "    \"\"\"\n",
    "    This function returns the booster version from the HTML  table cell \n",
    "    Input: the  element of a table data cell extracts extra row\n",
    "    \"\"\"\n",
    "    out=''.join([booster_version for i,booster_version in enumerate( table_cells.strings) if i%2==0][0:-1])\n",
    "    return out\n",
    "\n",
    "def landing_status(table_cells):\n",
    "    \"\"\"\n",
    "    This function returns the landing status from the HTML table cell \n",
    "    Input: the  element of a table data cell extracts extra row\n",
    "    \"\"\"\n",
    "    out=[i for i in table_cells.strings][0]\n",
    "    return out\n",
    "\n",
    "\n",
    "def get_mass(table_cells):\n",
    "    mass=unicodedata.normalize(\"NFKD\", table_cells.text).strip()\n",
    "    if mass:\n",
    "        mass.find(\"kg\")\n",
    "        new_mass=mass[0:mass.find(\"kg\")+2]\n",
    "    else:\n",
    "        new_mass=0\n",
    "    return new_mass\n",
    "\n",
    "\n",
    "def extract_column_from_header(row):\n",
    "    \"\"\"\n",
    "    This function returns the landing status from the HTML table cell \n",
    "    Input: the  element of a table data cell extracts extra row\n",
    "    \"\"\"\n",
    "    if (row.br):\n",
    "        row.br.extract()\n",
    "    if row.a:\n",
    "        row.a.extract()\n",
    "    if row.sup:\n",
    "        row.sup.extract()\n",
    "        \n",
    "    colunm_name = ' '.join(row.contents)\n",
    "    \n",
    "    # Filter the digit and empty names\n",
    "    if not(colunm_name.strip().isdigit()):\n",
    "        colunm_name = colunm_name.strip()\n",
    "        return colunm_name    \n"
   ]
  },
  {
   "cell_type": "markdown",
   "metadata": {},
   "source": [
    "To keep the lab tasks consistent, you will be asked to scrape the data from a snapshot of the  `List of Falcon 9 and Falcon Heavy launches` Wikipage updated on\n",
    "`9th June 2021`\n"
   ]
  },
  {
   "cell_type": "code",
   "execution_count": 30,
   "metadata": {},
   "outputs": [],
   "source": [
    "static_url = \"https://en.wikipedia.org/w/index.php?title=List_of_Falcon_9_and_Falcon_Heavy_launches&oldid=1027686922\""
   ]
  },
  {
   "cell_type": "markdown",
   "metadata": {},
   "source": [
    "Next, request the HTML page from the above URL and get a `response` object\n"
   ]
  },
  {
   "cell_type": "markdown",
   "metadata": {},
   "source": [
    "### TASK 1: Request the Falcon9 Launch Wiki page from its URL\n"
   ]
  },
  {
   "cell_type": "markdown",
   "metadata": {},
   "source": [
    "First, let's perform an HTTP GET method to request the Falcon9 Launch HTML page, as an HTTP response.\n"
   ]
  },
  {
   "cell_type": "code",
   "execution_count": 31,
   "metadata": {},
   "outputs": [],
   "source": [
    "# use requests.get() method with the provided static_url\n",
    "# assign the response to a object\n",
    "response=requests.get(static_url).text"
   ]
  },
  {
   "cell_type": "markdown",
   "metadata": {},
   "source": [
    "Create a `BeautifulSoup` object from the HTML `response`\n"
   ]
  },
  {
   "cell_type": "code",
   "execution_count": 32,
   "metadata": {
    "tags": []
   },
   "outputs": [
    {
     "data": {
      "text/plain": [
       "<title>List of Falcon 9 and Falcon Heavy launches - Wikipedia</title>"
      ]
     },
     "execution_count": 32,
     "metadata": {},
     "output_type": "execute_result"
    }
   ],
   "source": [
    "# Use BeautifulSoup() to create a BeautifulSoup object from a response text content\n",
    "soup=BeautifulSoup(response,'html.parser')\n",
    "soup.title"
   ]
  },
  {
   "cell_type": "markdown",
   "metadata": {},
   "source": [
    "Print the page title to verify if the `BeautifulSoup` object was created properly\n"
   ]
  },
  {
   "cell_type": "code",
   "execution_count": 33,
   "metadata": {},
   "outputs": [
    {
     "data": {
      "text/plain": [
       "<title>List of Falcon 9 and Falcon Heavy launches - Wikipedia</title>"
      ]
     },
     "execution_count": 33,
     "metadata": {},
     "output_type": "execute_result"
    }
   ],
   "source": [
    "# Use soup.title attribute\n",
    "soup.title"
   ]
  },
  {
   "cell_type": "markdown",
   "metadata": {},
   "source": [
    "### TASK 2: Extract all column/variable names from the HTML table header\n"
   ]
  },
  {
   "cell_type": "markdown",
   "metadata": {},
   "source": [
    "Next, we want to collect all relevant column names from the HTML table header\n"
   ]
  },
  {
   "cell_type": "markdown",
   "metadata": {},
   "source": [
    "Let's try to find all tables on the wiki page first. If you need to refresh your memory about `BeautifulSoup`, please check the external reference link towards the end of this lab\n"
   ]
  },
  {
   "cell_type": "code",
   "execution_count": 59,
   "metadata": {},
   "outputs": [],
   "source": [
    "# Use the find_all function in the BeautifulSoup object, with element type `table`\n",
    "# Assign the result to a list called `html_tables`\n",
    "df_list = pd.read_html(static_url,flavor='html5lib')"
   ]
  },
  {
   "cell_type": "code",
   "execution_count": 60,
   "metadata": {},
   "outputs": [],
   "source": [
    "import string\n",
    "translator=str.maketrans('','',string.punctuation + \" \")\n",
    "\n",
    "for i in range(0,9):\n",
    "    cols=df_list[i+2].columns\n",
    "    fixed_cols=cols.str.upper().str.translate(translator)\n",
    "    df_list[i+2].columns=fixed_cols\n",
    "\n",
    "    "
   ]
  },
  {
   "cell_type": "code",
   "execution_count": 61,
   "metadata": {},
   "outputs": [
    {
     "data": {
      "text/html": [
       "<div>\n",
       "<style scoped>\n",
       "    .dataframe tbody tr th:only-of-type {\n",
       "        vertical-align: middle;\n",
       "    }\n",
       "\n",
       "    .dataframe tbody tr th {\n",
       "        vertical-align: top;\n",
       "    }\n",
       "\n",
       "    .dataframe thead th {\n",
       "        text-align: right;\n",
       "    }\n",
       "</style>\n",
       "<table border=\"1\" class=\"dataframe\">\n",
       "  <thead>\n",
       "    <tr style=\"text-align: right;\">\n",
       "      <th></th>\n",
       "      <th>index</th>\n",
       "      <th>FLIGHTNO</th>\n",
       "      <th>DATEANDTIMEUTC</th>\n",
       "      <th>VERSIONBOOSTERB</th>\n",
       "      <th>LAUNCHSITE</th>\n",
       "      <th>PAYLOADC</th>\n",
       "      <th>PAYLOADMASS</th>\n",
       "      <th>ORBIT</th>\n",
       "      <th>CUSTOMER</th>\n",
       "      <th>LAUNCHOUTCOME</th>\n",
       "      <th>BOOSTERLANDING</th>\n",
       "    </tr>\n",
       "  </thead>\n",
       "  <tbody>\n",
       "    <tr>\n",
       "      <th>0</th>\n",
       "      <td>0</td>\n",
       "      <td>1</td>\n",
       "      <td>2010-06-04 01:08:04.500</td>\n",
       "      <td>F9 v1.0[7]B0003.1[8]</td>\n",
       "      <td>CCAFS,SLC-40</td>\n",
       "      <td>Dragon Spacecraft Qualification Unit</td>\n",
       "      <td>NaN</td>\n",
       "      <td>LEO</td>\n",
       "      <td>SpaceX</td>\n",
       "      <td>Success</td>\n",
       "      <td>Failure[9][10](parachute)</td>\n",
       "    </tr>\n",
       "    <tr>\n",
       "      <th>2</th>\n",
       "      <td>2</td>\n",
       "      <td>2</td>\n",
       "      <td>2010-12-08 15:43:01.300</td>\n",
       "      <td>F9 v1.0[7]B0004.1[8]</td>\n",
       "      <td>CCAFS,SLC-40</td>\n",
       "      <td>Dragon demo flight C1(Dragon C101)</td>\n",
       "      <td>NaN</td>\n",
       "      <td>LEO (ISS)</td>\n",
       "      <td>NASA (COTS) NRO</td>\n",
       "      <td>Success[9]</td>\n",
       "      <td>Failure[9][14](parachute)</td>\n",
       "    </tr>\n",
       "    <tr>\n",
       "      <th>4</th>\n",
       "      <td>4</td>\n",
       "      <td>3</td>\n",
       "      <td>2012-05-22 07:44:01.700</td>\n",
       "      <td>F9 v1.0[7]B0005.1[8]</td>\n",
       "      <td>CCAFS,SLC-40</td>\n",
       "      <td>Dragon demo flight C2+[18](Dragon C102)</td>\n",
       "      <td>525 kg (1,157 lb)[19]</td>\n",
       "      <td>LEO (ISS)</td>\n",
       "      <td>NASA (COTS)</td>\n",
       "      <td>Success[20]</td>\n",
       "      <td>No attempt</td>\n",
       "    </tr>\n",
       "    <tr>\n",
       "      <th>9</th>\n",
       "      <td>9</td>\n",
       "      <td>5</td>\n",
       "      <td>2013-03-01 01:05:01.000</td>\n",
       "      <td>F9 v1.0[7]B0007.1[8]</td>\n",
       "      <td>CCAFS,SLC-40</td>\n",
       "      <td>SpaceX CRS-2[22](Dragon C104)</td>\n",
       "      <td>4,877 kg (10,752 lb)</td>\n",
       "      <td>LEO (ISS)</td>\n",
       "      <td>NASA (CRS)</td>\n",
       "      <td>Success</td>\n",
       "      <td>No attempt</td>\n",
       "    </tr>\n",
       "    <tr>\n",
       "      <th>11</th>\n",
       "      <td>11</td>\n",
       "      <td>6</td>\n",
       "      <td>2013-09-29 16:00:03.000</td>\n",
       "      <td>F9 v1.1[7]B1003[8]</td>\n",
       "      <td>VAFB,SLC-4E</td>\n",
       "      <td>CASSIOPE[22][31]</td>\n",
       "      <td>500 kg (1,100 lb)</td>\n",
       "      <td>Polar orbit LEO</td>\n",
       "      <td>MDA</td>\n",
       "      <td>Success[30]</td>\n",
       "      <td>Uncontrolled(ocean)[d]</td>\n",
       "    </tr>\n",
       "    <tr>\n",
       "      <th>...</th>\n",
       "      <td>...</td>\n",
       "      <td>...</td>\n",
       "      <td>...</td>\n",
       "      <td>...</td>\n",
       "      <td>...</td>\n",
       "      <td>...</td>\n",
       "      <td>...</td>\n",
       "      <td>...</td>\n",
       "      <td>...</td>\n",
       "      <td>...</td>\n",
       "      <td>...</td>\n",
       "    </tr>\n",
       "    <tr>\n",
       "      <th>211</th>\n",
       "      <td>42</td>\n",
       "      <td>99</td>\n",
       "      <td>2020-11-21 17:17:08.587</td>\n",
       "      <td>F9 B5B1063.1</td>\n",
       "      <td>VAFB,SLC-4E</td>\n",
       "      <td>Sentinel-6 Michael Freilich (Jason-CS A)</td>\n",
       "      <td>1,192 kg (2,628 lb)</td>\n",
       "      <td>LEO</td>\n",
       "      <td>NASA / NOAA / ESA / EUMETSAT</td>\n",
       "      <td>Success</td>\n",
       "      <td>Success(ground pad)</td>\n",
       "    </tr>\n",
       "    <tr>\n",
       "      <th>213</th>\n",
       "      <td>44</td>\n",
       "      <td>100</td>\n",
       "      <td>2020-11-25 02:13:58.900</td>\n",
       "      <td>F9 B5 ♺B1049.7[590]</td>\n",
       "      <td>CCAFS,SLC-40</td>\n",
       "      <td>Starlink 15 v1.0 (60 satellites)</td>\n",
       "      <td>15,600 kg (34,400 lb)</td>\n",
       "      <td>LEO</td>\n",
       "      <td>SpaceX</td>\n",
       "      <td>Success</td>\n",
       "      <td>Success(drone ship)</td>\n",
       "    </tr>\n",
       "    <tr>\n",
       "      <th>215</th>\n",
       "      <td>46</td>\n",
       "      <td>101</td>\n",
       "      <td>2020-12-06 16:17:08.591</td>\n",
       "      <td>F9 B5 ♺B1058.4[592]</td>\n",
       "      <td>KSC,LC-39A</td>\n",
       "      <td>SpaceX CRS-21(Dragon C208.1)</td>\n",
       "      <td>2,972 kg (6,552 lb)</td>\n",
       "      <td>LEO (ISS)</td>\n",
       "      <td>NASA (CRS)</td>\n",
       "      <td>Success</td>\n",
       "      <td>Success(drone ship)</td>\n",
       "    </tr>\n",
       "    <tr>\n",
       "      <th>217</th>\n",
       "      <td>48</td>\n",
       "      <td>102</td>\n",
       "      <td>2020-12-13 17:30:00.596</td>\n",
       "      <td>F9 B5 ♺B1051.7</td>\n",
       "      <td>CCSFS,SLC-40[597]</td>\n",
       "      <td>SXM-7</td>\n",
       "      <td>7,000 kg (15,000 lb)</td>\n",
       "      <td>GTO</td>\n",
       "      <td>Sirius XM</td>\n",
       "      <td>Success</td>\n",
       "      <td>Success(drone ship)</td>\n",
       "    </tr>\n",
       "    <tr>\n",
       "      <th>219</th>\n",
       "      <td>50</td>\n",
       "      <td>103</td>\n",
       "      <td>2020-12-19 14:00:00.602</td>\n",
       "      <td>F9 B5 ♺B1059.5</td>\n",
       "      <td>KSC,LC-39A</td>\n",
       "      <td>NROL-108</td>\n",
       "      <td>Classified</td>\n",
       "      <td>LEO</td>\n",
       "      <td>NRO</td>\n",
       "      <td>Success</td>\n",
       "      <td>Success(ground pad)</td>\n",
       "    </tr>\n",
       "  </tbody>\n",
       "</table>\n",
       "<p>102 rows × 11 columns</p>\n",
       "</div>"
      ],
      "text/plain": [
       "     index FLIGHTNO          DATEANDTIMEUTC       VERSIONBOOSTERB  \\\n",
       "0        0        1 2010-06-04 01:08:04.500  F9 v1.0[7]B0003.1[8]   \n",
       "2        2        2 2010-12-08 15:43:01.300  F9 v1.0[7]B0004.1[8]   \n",
       "4        4        3 2012-05-22 07:44:01.700  F9 v1.0[7]B0005.1[8]   \n",
       "9        9        5 2013-03-01 01:05:01.000  F9 v1.0[7]B0007.1[8]   \n",
       "11      11        6 2013-09-29 16:00:03.000    F9 v1.1[7]B1003[8]   \n",
       "..     ...      ...                     ...                   ...   \n",
       "211     42       99 2020-11-21 17:17:08.587          F9 B5B1063.1   \n",
       "213     44      100 2020-11-25 02:13:58.900   F9 B5 ♺B1049.7[590]   \n",
       "215     46      101 2020-12-06 16:17:08.591   F9 B5 ♺B1058.4[592]   \n",
       "217     48      102 2020-12-13 17:30:00.596        F9 B5 ♺B1051.7   \n",
       "219     50      103 2020-12-19 14:00:00.602        F9 B5 ♺B1059.5   \n",
       "\n",
       "            LAUNCHSITE                                  PAYLOADC  \\\n",
       "0         CCAFS,SLC-40      Dragon Spacecraft Qualification Unit   \n",
       "2         CCAFS,SLC-40        Dragon demo flight C1(Dragon C101)   \n",
       "4         CCAFS,SLC-40   Dragon demo flight C2+[18](Dragon C102)   \n",
       "9         CCAFS,SLC-40             SpaceX CRS-2[22](Dragon C104)   \n",
       "11         VAFB,SLC-4E                          CASSIOPE[22][31]   \n",
       "..                 ...                                       ...   \n",
       "211        VAFB,SLC-4E  Sentinel-6 Michael Freilich (Jason-CS A)   \n",
       "213       CCAFS,SLC-40          Starlink 15 v1.0 (60 satellites)   \n",
       "215         KSC,LC-39A              SpaceX CRS-21(Dragon C208.1)   \n",
       "217  CCSFS,SLC-40[597]                                     SXM-7   \n",
       "219         KSC,LC-39A                                  NROL-108   \n",
       "\n",
       "               PAYLOADMASS            ORBIT                      CUSTOMER  \\\n",
       "0                      NaN              LEO                        SpaceX   \n",
       "2                      NaN        LEO (ISS)               NASA (COTS) NRO   \n",
       "4    525 kg (1,157 lb)[19]        LEO (ISS)                   NASA (COTS)   \n",
       "9     4,877 kg (10,752 lb)        LEO (ISS)                    NASA (CRS)   \n",
       "11       500 kg (1,100 lb)  Polar orbit LEO                           MDA   \n",
       "..                     ...              ...                           ...   \n",
       "211    1,192 kg (2,628 lb)              LEO  NASA / NOAA / ESA / EUMETSAT   \n",
       "213  15,600 kg (34,400 lb)              LEO                        SpaceX   \n",
       "215    2,972 kg (6,552 lb)        LEO (ISS)                    NASA (CRS)   \n",
       "217   7,000 kg (15,000 lb)              GTO                     Sirius XM   \n",
       "219             Classified              LEO                           NRO   \n",
       "\n",
       "    LAUNCHOUTCOME             BOOSTERLANDING  \n",
       "0         Success  Failure[9][10](parachute)  \n",
       "2      Success[9]  Failure[9][14](parachute)  \n",
       "4     Success[20]                 No attempt  \n",
       "9         Success                 No attempt  \n",
       "11    Success[30]     Uncontrolled(ocean)[d]  \n",
       "..            ...                        ...  \n",
       "211       Success        Success(ground pad)  \n",
       "213       Success        Success(drone ship)  \n",
       "215       Success        Success(drone ship)  \n",
       "217       Success        Success(drone ship)  \n",
       "219       Success        Success(ground pad)  \n",
       "\n",
       "[102 rows x 11 columns]"
      ]
     },
     "execution_count": 61,
     "metadata": {},
     "output_type": "execute_result"
    }
   ],
   "source": [
    "df = pd.concat(df_list[2:10])\n",
    "df.reset_index(inplace=True)\n",
    "translator=str.maketrans('','',string.punctuation + \" \")\n",
    "df['DATEANDTIMEUTC']=df['DATEANDTIMEUTC'].str.translate(translator)\n",
    "df\n",
    "tst_df = df[df['DATEANDTIMEUTC'].str[0].str.isdigit()]\n",
    "tst_df=tst_df.loc[~tst_df['DATEANDTIMEUTC'].str.contains(\"planned\")]\n",
    "tst_df['DATEANDTIMEUTC']=pd.to_datetime(tst_df['DATEANDTIMEUTC'],format='%d%B%Y%H%M%S%f')\n",
    "tst_df = tst_df.groupby('FLIGHTNO').filter(lambda x : len(x)==1 )\n",
    "tst_df"
   ]
  },
  {
   "cell_type": "code",
   "execution_count": 62,
   "metadata": {},
   "outputs": [
    {
     "data": {
      "text/html": [
       "<div>\n",
       "<style scoped>\n",
       "    .dataframe tbody tr th:only-of-type {\n",
       "        vertical-align: middle;\n",
       "    }\n",
       "\n",
       "    .dataframe tbody tr th {\n",
       "        vertical-align: top;\n",
       "    }\n",
       "\n",
       "    .dataframe thead th {\n",
       "        text-align: right;\n",
       "    }\n",
       "</style>\n",
       "<table border=\"1\" class=\"dataframe\">\n",
       "  <thead>\n",
       "    <tr style=\"text-align: right;\">\n",
       "      <th></th>\n",
       "      <th>index</th>\n",
       "      <th>FLIGHTNO</th>\n",
       "      <th>DATEANDTIMEUTC</th>\n",
       "      <th>VERSIONBOOSTERB</th>\n",
       "      <th>LAUNCHSITE</th>\n",
       "      <th>PAYLOADC</th>\n",
       "      <th>PAYLOADMASS</th>\n",
       "      <th>ORBIT</th>\n",
       "      <th>CUSTOMER</th>\n",
       "      <th>LAUNCHOUTCOME</th>\n",
       "      <th>BOOSTERLANDING</th>\n",
       "    </tr>\n",
       "  </thead>\n",
       "  <tbody>\n",
       "    <tr>\n",
       "      <th>0</th>\n",
       "      <td>0</td>\n",
       "      <td>1</td>\n",
       "      <td>2010-06-04 01:08:04.500</td>\n",
       "      <td>F9 v1.0[7]B0003.1[8]</td>\n",
       "      <td>CCAFS,SLC-40</td>\n",
       "      <td>Dragon Spacecraft Qualification Unit</td>\n",
       "      <td>NaN</td>\n",
       "      <td>LEO</td>\n",
       "      <td>SpaceX</td>\n",
       "      <td>Success</td>\n",
       "      <td>Failure[9][10](parachute)</td>\n",
       "    </tr>\n",
       "    <tr>\n",
       "      <th>2</th>\n",
       "      <td>2</td>\n",
       "      <td>2</td>\n",
       "      <td>2010-12-08 15:43:01.300</td>\n",
       "      <td>F9 v1.0[7]B0004.1[8]</td>\n",
       "      <td>CCAFS,SLC-40</td>\n",
       "      <td>Dragon demo flight C1(Dragon C101)</td>\n",
       "      <td>NaN</td>\n",
       "      <td>LEO (ISS)</td>\n",
       "      <td>NASA (COTS) NRO</td>\n",
       "      <td>Success[9]</td>\n",
       "      <td>Failure[9][14](parachute)</td>\n",
       "    </tr>\n",
       "    <tr>\n",
       "      <th>4</th>\n",
       "      <td>4</td>\n",
       "      <td>3</td>\n",
       "      <td>2012-05-22 07:44:01.700</td>\n",
       "      <td>F9 v1.0[7]B0005.1[8]</td>\n",
       "      <td>CCAFS,SLC-40</td>\n",
       "      <td>Dragon demo flight C2+[18](Dragon C102)</td>\n",
       "      <td>525 kg (1,157 lb)[19]</td>\n",
       "      <td>LEO (ISS)</td>\n",
       "      <td>NASA (COTS)</td>\n",
       "      <td>Success[20]</td>\n",
       "      <td>No attempt</td>\n",
       "    </tr>\n",
       "    <tr>\n",
       "      <th>9</th>\n",
       "      <td>9</td>\n",
       "      <td>5</td>\n",
       "      <td>2013-03-01 01:05:01.000</td>\n",
       "      <td>F9 v1.0[7]B0007.1[8]</td>\n",
       "      <td>CCAFS,SLC-40</td>\n",
       "      <td>SpaceX CRS-2[22](Dragon C104)</td>\n",
       "      <td>4,877 kg (10,752 lb)</td>\n",
       "      <td>LEO (ISS)</td>\n",
       "      <td>NASA (CRS)</td>\n",
       "      <td>Success</td>\n",
       "      <td>No attempt</td>\n",
       "    </tr>\n",
       "    <tr>\n",
       "      <th>11</th>\n",
       "      <td>11</td>\n",
       "      <td>6</td>\n",
       "      <td>2013-09-29 16:00:03.000</td>\n",
       "      <td>F9 v1.1[7]B1003[8]</td>\n",
       "      <td>VAFB,SLC-4E</td>\n",
       "      <td>CASSIOPE[22][31]</td>\n",
       "      <td>500 kg (1,100 lb)</td>\n",
       "      <td>Polar orbit LEO</td>\n",
       "      <td>MDA</td>\n",
       "      <td>Success[30]</td>\n",
       "      <td>Uncontrolled(ocean)[d]</td>\n",
       "    </tr>\n",
       "    <tr>\n",
       "      <th>...</th>\n",
       "      <td>...</td>\n",
       "      <td>...</td>\n",
       "      <td>...</td>\n",
       "      <td>...</td>\n",
       "      <td>...</td>\n",
       "      <td>...</td>\n",
       "      <td>...</td>\n",
       "      <td>...</td>\n",
       "      <td>...</td>\n",
       "      <td>...</td>\n",
       "      <td>...</td>\n",
       "    </tr>\n",
       "    <tr>\n",
       "      <th>211</th>\n",
       "      <td>42</td>\n",
       "      <td>99</td>\n",
       "      <td>2020-11-21 17:17:08.587</td>\n",
       "      <td>F9 B5B1063.1</td>\n",
       "      <td>VAFB,SLC-4E</td>\n",
       "      <td>Sentinel-6 Michael Freilich (Jason-CS A)</td>\n",
       "      <td>1,192 kg (2,628 lb)</td>\n",
       "      <td>LEO</td>\n",
       "      <td>NASA / NOAA / ESA / EUMETSAT</td>\n",
       "      <td>Success</td>\n",
       "      <td>Success(ground pad)</td>\n",
       "    </tr>\n",
       "    <tr>\n",
       "      <th>213</th>\n",
       "      <td>44</td>\n",
       "      <td>100</td>\n",
       "      <td>2020-11-25 02:13:58.900</td>\n",
       "      <td>F9 B5 ♺B1049.7[590]</td>\n",
       "      <td>CCAFS,SLC-40</td>\n",
       "      <td>Starlink 15 v1.0 (60 satellites)</td>\n",
       "      <td>15,600 kg (34,400 lb)</td>\n",
       "      <td>LEO</td>\n",
       "      <td>SpaceX</td>\n",
       "      <td>Success</td>\n",
       "      <td>Success(drone ship)</td>\n",
       "    </tr>\n",
       "    <tr>\n",
       "      <th>215</th>\n",
       "      <td>46</td>\n",
       "      <td>101</td>\n",
       "      <td>2020-12-06 16:17:08.591</td>\n",
       "      <td>F9 B5 ♺B1058.4[592]</td>\n",
       "      <td>KSC,LC-39A</td>\n",
       "      <td>SpaceX CRS-21(Dragon C208.1)</td>\n",
       "      <td>2,972 kg (6,552 lb)</td>\n",
       "      <td>LEO (ISS)</td>\n",
       "      <td>NASA (CRS)</td>\n",
       "      <td>Success</td>\n",
       "      <td>Success(drone ship)</td>\n",
       "    </tr>\n",
       "    <tr>\n",
       "      <th>217</th>\n",
       "      <td>48</td>\n",
       "      <td>102</td>\n",
       "      <td>2020-12-13 17:30:00.596</td>\n",
       "      <td>F9 B5 ♺B1051.7</td>\n",
       "      <td>CCSFS,SLC-40[597]</td>\n",
       "      <td>SXM-7</td>\n",
       "      <td>7,000 kg (15,000 lb)</td>\n",
       "      <td>GTO</td>\n",
       "      <td>Sirius XM</td>\n",
       "      <td>Success</td>\n",
       "      <td>Success(drone ship)</td>\n",
       "    </tr>\n",
       "    <tr>\n",
       "      <th>219</th>\n",
       "      <td>50</td>\n",
       "      <td>103</td>\n",
       "      <td>2020-12-19 14:00:00.602</td>\n",
       "      <td>F9 B5 ♺B1059.5</td>\n",
       "      <td>KSC,LC-39A</td>\n",
       "      <td>NROL-108</td>\n",
       "      <td>Classified</td>\n",
       "      <td>LEO</td>\n",
       "      <td>NRO</td>\n",
       "      <td>Success</td>\n",
       "      <td>Success(ground pad)</td>\n",
       "    </tr>\n",
       "  </tbody>\n",
       "</table>\n",
       "<p>102 rows × 11 columns</p>\n",
       "</div>"
      ],
      "text/plain": [
       "     index FLIGHTNO          DATEANDTIMEUTC       VERSIONBOOSTERB  \\\n",
       "0        0        1 2010-06-04 01:08:04.500  F9 v1.0[7]B0003.1[8]   \n",
       "2        2        2 2010-12-08 15:43:01.300  F9 v1.0[7]B0004.1[8]   \n",
       "4        4        3 2012-05-22 07:44:01.700  F9 v1.0[7]B0005.1[8]   \n",
       "9        9        5 2013-03-01 01:05:01.000  F9 v1.0[7]B0007.1[8]   \n",
       "11      11        6 2013-09-29 16:00:03.000    F9 v1.1[7]B1003[8]   \n",
       "..     ...      ...                     ...                   ...   \n",
       "211     42       99 2020-11-21 17:17:08.587          F9 B5B1063.1   \n",
       "213     44      100 2020-11-25 02:13:58.900   F9 B5 ♺B1049.7[590]   \n",
       "215     46      101 2020-12-06 16:17:08.591   F9 B5 ♺B1058.4[592]   \n",
       "217     48      102 2020-12-13 17:30:00.596        F9 B5 ♺B1051.7   \n",
       "219     50      103 2020-12-19 14:00:00.602        F9 B5 ♺B1059.5   \n",
       "\n",
       "            LAUNCHSITE                                  PAYLOADC  \\\n",
       "0         CCAFS,SLC-40      Dragon Spacecraft Qualification Unit   \n",
       "2         CCAFS,SLC-40        Dragon demo flight C1(Dragon C101)   \n",
       "4         CCAFS,SLC-40   Dragon demo flight C2+[18](Dragon C102)   \n",
       "9         CCAFS,SLC-40             SpaceX CRS-2[22](Dragon C104)   \n",
       "11         VAFB,SLC-4E                          CASSIOPE[22][31]   \n",
       "..                 ...                                       ...   \n",
       "211        VAFB,SLC-4E  Sentinel-6 Michael Freilich (Jason-CS A)   \n",
       "213       CCAFS,SLC-40          Starlink 15 v1.0 (60 satellites)   \n",
       "215         KSC,LC-39A              SpaceX CRS-21(Dragon C208.1)   \n",
       "217  CCSFS,SLC-40[597]                                     SXM-7   \n",
       "219         KSC,LC-39A                                  NROL-108   \n",
       "\n",
       "               PAYLOADMASS            ORBIT                      CUSTOMER  \\\n",
       "0                      NaN              LEO                        SpaceX   \n",
       "2                      NaN        LEO (ISS)               NASA (COTS) NRO   \n",
       "4    525 kg (1,157 lb)[19]        LEO (ISS)                   NASA (COTS)   \n",
       "9     4,877 kg (10,752 lb)        LEO (ISS)                    NASA (CRS)   \n",
       "11       500 kg (1,100 lb)  Polar orbit LEO                           MDA   \n",
       "..                     ...              ...                           ...   \n",
       "211    1,192 kg (2,628 lb)              LEO  NASA / NOAA / ESA / EUMETSAT   \n",
       "213  15,600 kg (34,400 lb)              LEO                        SpaceX   \n",
       "215    2,972 kg (6,552 lb)        LEO (ISS)                    NASA (CRS)   \n",
       "217   7,000 kg (15,000 lb)              GTO                     Sirius XM   \n",
       "219             Classified              LEO                           NRO   \n",
       "\n",
       "    LAUNCHOUTCOME             BOOSTERLANDING  \n",
       "0         Success  Failure[9][10](parachute)  \n",
       "2      Success[9]  Failure[9][14](parachute)  \n",
       "4     Success[20]                 No attempt  \n",
       "9         Success                 No attempt  \n",
       "11    Success[30]     Uncontrolled(ocean)[d]  \n",
       "..            ...                        ...  \n",
       "211       Success        Success(ground pad)  \n",
       "213       Success        Success(drone ship)  \n",
       "215       Success        Success(drone ship)  \n",
       "217       Success        Success(drone ship)  \n",
       "219       Success        Success(ground pad)  \n",
       "\n",
       "[102 rows x 11 columns]"
      ]
     },
     "execution_count": 62,
     "metadata": {},
     "output_type": "execute_result"
    }
   ],
   "source": [
    "pd.to_datetime(tst_df['DATEANDTIMEUTC'],'%d %B %Y')\n",
    "tst_df"
   ]
  },
  {
   "cell_type": "code",
   "execution_count": 63,
   "metadata": {},
   "outputs": [
    {
     "name": "stderr",
     "output_type": "stream",
     "text": [
      "/home/marlon/anaconda3/lib/python3.7/site-packages/ipykernel_launcher.py:3: FutureWarning: The default value of regex will change from True to False in a future version.\n",
      "  This is separate from the ipykernel package so we can avoid doing imports until\n"
     ]
    }
   ],
   "source": [
    "df_list = pd.concat(df_list[2:10])\n",
    "df_list.reset_index(inplace=True)\n",
    "df_list['DATEANDTIMEUTC']=df_list['DATEANDTIMEUTC'].str.replace('[^\\w\\s]','')\n",
    "\n",
    "df_list=df_list[df_list['DATEANDTIMEUTC'].notnull()]\n",
    "df_list=df_list[df_list['DATEANDTIMEUTC'].str[0].str.isdigit()]"
   ]
  },
  {
   "cell_type": "markdown",
   "metadata": {},
   "source": [
    "Starting from the third table is our target table contains the actual launch records.\n"
   ]
  },
  {
   "cell_type": "code",
   "execution_count": 64,
   "metadata": {},
   "outputs": [
    {
     "data": {
      "text/html": [
       "<div>\n",
       "<style scoped>\n",
       "    .dataframe tbody tr th:only-of-type {\n",
       "        vertical-align: middle;\n",
       "    }\n",
       "\n",
       "    .dataframe tbody tr th {\n",
       "        vertical-align: top;\n",
       "    }\n",
       "\n",
       "    .dataframe thead th {\n",
       "        text-align: right;\n",
       "    }\n",
       "</style>\n",
       "<table border=\"1\" class=\"dataframe\">\n",
       "  <thead>\n",
       "    <tr style=\"text-align: right;\">\n",
       "      <th></th>\n",
       "      <th>index</th>\n",
       "      <th>FLIGHTNO</th>\n",
       "      <th>DATEANDTIMEUTC</th>\n",
       "      <th>VERSIONBOOSTERB</th>\n",
       "      <th>LAUNCHSITE</th>\n",
       "      <th>PAYLOADC</th>\n",
       "      <th>PAYLOADMASS</th>\n",
       "      <th>ORBIT</th>\n",
       "      <th>CUSTOMER</th>\n",
       "      <th>LAUNCHOUTCOME</th>\n",
       "      <th>BOOSTERLANDING</th>\n",
       "    </tr>\n",
       "  </thead>\n",
       "  <tbody>\n",
       "    <tr>\n",
       "      <th>0</th>\n",
       "      <td>0</td>\n",
       "      <td>1</td>\n",
       "      <td>4 June 20101845</td>\n",
       "      <td>F9 v1.0[7]B0003.1[8]</td>\n",
       "      <td>CCAFS,SLC-40</td>\n",
       "      <td>Dragon Spacecraft Qualification Unit</td>\n",
       "      <td>NaN</td>\n",
       "      <td>LEO</td>\n",
       "      <td>SpaceX</td>\n",
       "      <td>Success</td>\n",
       "      <td>Failure[9][10](parachute)</td>\n",
       "    </tr>\n",
       "    <tr>\n",
       "      <th>2</th>\n",
       "      <td>2</td>\n",
       "      <td>2</td>\n",
       "      <td>8 December 2010154313</td>\n",
       "      <td>F9 v1.0[7]B0004.1[8]</td>\n",
       "      <td>CCAFS,SLC-40</td>\n",
       "      <td>Dragon demo flight C1(Dragon C101)</td>\n",
       "      <td>NaN</td>\n",
       "      <td>LEO (ISS)</td>\n",
       "      <td>NASA (COTS) NRO</td>\n",
       "      <td>Success[9]</td>\n",
       "      <td>Failure[9][14](parachute)</td>\n",
       "    </tr>\n",
       "    <tr>\n",
       "      <th>4</th>\n",
       "      <td>4</td>\n",
       "      <td>3</td>\n",
       "      <td>22 May 2012074417</td>\n",
       "      <td>F9 v1.0[7]B0005.1[8]</td>\n",
       "      <td>CCAFS,SLC-40</td>\n",
       "      <td>Dragon demo flight C2+[18](Dragon C102)</td>\n",
       "      <td>525 kg (1,157 lb)[19]</td>\n",
       "      <td>LEO (ISS)</td>\n",
       "      <td>NASA (COTS)</td>\n",
       "      <td>Success[20]</td>\n",
       "      <td>No attempt</td>\n",
       "    </tr>\n",
       "    <tr>\n",
       "      <th>6</th>\n",
       "      <td>6</td>\n",
       "      <td>4</td>\n",
       "      <td>8 October 2012003521</td>\n",
       "      <td>F9 v1.0[7]B0006.1[8]</td>\n",
       "      <td>CCAFS,SLC-40</td>\n",
       "      <td>SpaceX CRS-1[22](Dragon C103)</td>\n",
       "      <td>4,700 kg (10,400 lb)</td>\n",
       "      <td>LEO (ISS)</td>\n",
       "      <td>NASA (CRS)</td>\n",
       "      <td>Success</td>\n",
       "      <td>No attempt</td>\n",
       "    </tr>\n",
       "    <tr>\n",
       "      <th>7</th>\n",
       "      <td>7</td>\n",
       "      <td>4</td>\n",
       "      <td>8 October 2012003521</td>\n",
       "      <td>F9 v1.0[7]B0006.1[8]</td>\n",
       "      <td>CCAFS,SLC-40</td>\n",
       "      <td>Orbcomm-OG2[23]</td>\n",
       "      <td>172 kg (379 lb)[24]</td>\n",
       "      <td>LEO</td>\n",
       "      <td>Orbcomm</td>\n",
       "      <td>Partial failure[25]</td>\n",
       "      <td>No attempt</td>\n",
       "    </tr>\n",
       "    <tr>\n",
       "      <th>...</th>\n",
       "      <td>...</td>\n",
       "      <td>...</td>\n",
       "      <td>...</td>\n",
       "      <td>...</td>\n",
       "      <td>...</td>\n",
       "      <td>...</td>\n",
       "      <td>...</td>\n",
       "      <td>...</td>\n",
       "      <td>...</td>\n",
       "      <td>...</td>\n",
       "      <td>...</td>\n",
       "    </tr>\n",
       "    <tr>\n",
       "      <th>211</th>\n",
       "      <td>42</td>\n",
       "      <td>99</td>\n",
       "      <td>21 November 2020171708587</td>\n",
       "      <td>F9 B5B1063.1</td>\n",
       "      <td>VAFB,SLC-4E</td>\n",
       "      <td>Sentinel-6 Michael Freilich (Jason-CS A)</td>\n",
       "      <td>1,192 kg (2,628 lb)</td>\n",
       "      <td>LEO</td>\n",
       "      <td>NASA / NOAA / ESA / EUMETSAT</td>\n",
       "      <td>Success</td>\n",
       "      <td>Success(ground pad)</td>\n",
       "    </tr>\n",
       "    <tr>\n",
       "      <th>213</th>\n",
       "      <td>44</td>\n",
       "      <td>100</td>\n",
       "      <td>25 November 20200213589</td>\n",
       "      <td>F9 B5 ♺B1049.7[590]</td>\n",
       "      <td>CCAFS,SLC-40</td>\n",
       "      <td>Starlink 15 v1.0 (60 satellites)</td>\n",
       "      <td>15,600 kg (34,400 lb)</td>\n",
       "      <td>LEO</td>\n",
       "      <td>SpaceX</td>\n",
       "      <td>Success</td>\n",
       "      <td>Success(drone ship)</td>\n",
       "    </tr>\n",
       "    <tr>\n",
       "      <th>215</th>\n",
       "      <td>46</td>\n",
       "      <td>101</td>\n",
       "      <td>6 December 2020161708591</td>\n",
       "      <td>F9 B5 ♺B1058.4[592]</td>\n",
       "      <td>KSC,LC-39A</td>\n",
       "      <td>SpaceX CRS-21(Dragon C208.1)</td>\n",
       "      <td>2,972 kg (6,552 lb)</td>\n",
       "      <td>LEO (ISS)</td>\n",
       "      <td>NASA (CRS)</td>\n",
       "      <td>Success</td>\n",
       "      <td>Success(drone ship)</td>\n",
       "    </tr>\n",
       "    <tr>\n",
       "      <th>217</th>\n",
       "      <td>48</td>\n",
       "      <td>102</td>\n",
       "      <td>13 December 2020173000596</td>\n",
       "      <td>F9 B5 ♺B1051.7</td>\n",
       "      <td>CCSFS,SLC-40[597]</td>\n",
       "      <td>SXM-7</td>\n",
       "      <td>7,000 kg (15,000 lb)</td>\n",
       "      <td>GTO</td>\n",
       "      <td>Sirius XM</td>\n",
       "      <td>Success</td>\n",
       "      <td>Success(drone ship)</td>\n",
       "    </tr>\n",
       "    <tr>\n",
       "      <th>219</th>\n",
       "      <td>50</td>\n",
       "      <td>103</td>\n",
       "      <td>19 December 2020140000602</td>\n",
       "      <td>F9 B5 ♺B1059.5</td>\n",
       "      <td>KSC,LC-39A</td>\n",
       "      <td>NROL-108</td>\n",
       "      <td>Classified</td>\n",
       "      <td>LEO</td>\n",
       "      <td>NRO</td>\n",
       "      <td>Success</td>\n",
       "      <td>Success(ground pad)</td>\n",
       "    </tr>\n",
       "  </tbody>\n",
       "</table>\n",
       "<p>114 rows × 11 columns</p>\n",
       "</div>"
      ],
      "text/plain": [
       "     index FLIGHTNO             DATEANDTIMEUTC       VERSIONBOOSTERB  \\\n",
       "0        0        1            4 June 20101845  F9 v1.0[7]B0003.1[8]   \n",
       "2        2        2      8 December 2010154313  F9 v1.0[7]B0004.1[8]   \n",
       "4        4        3          22 May 2012074417  F9 v1.0[7]B0005.1[8]   \n",
       "6        6        4       8 October 2012003521  F9 v1.0[7]B0006.1[8]   \n",
       "7        7        4       8 October 2012003521  F9 v1.0[7]B0006.1[8]   \n",
       "..     ...      ...                        ...                   ...   \n",
       "211     42       99  21 November 2020171708587          F9 B5B1063.1   \n",
       "213     44      100    25 November 20200213589   F9 B5 ♺B1049.7[590]   \n",
       "215     46      101   6 December 2020161708591   F9 B5 ♺B1058.4[592]   \n",
       "217     48      102  13 December 2020173000596        F9 B5 ♺B1051.7   \n",
       "219     50      103  19 December 2020140000602        F9 B5 ♺B1059.5   \n",
       "\n",
       "            LAUNCHSITE                                  PAYLOADC  \\\n",
       "0         CCAFS,SLC-40      Dragon Spacecraft Qualification Unit   \n",
       "2         CCAFS,SLC-40        Dragon demo flight C1(Dragon C101)   \n",
       "4         CCAFS,SLC-40   Dragon demo flight C2+[18](Dragon C102)   \n",
       "6         CCAFS,SLC-40             SpaceX CRS-1[22](Dragon C103)   \n",
       "7         CCAFS,SLC-40                           Orbcomm-OG2[23]   \n",
       "..                 ...                                       ...   \n",
       "211        VAFB,SLC-4E  Sentinel-6 Michael Freilich (Jason-CS A)   \n",
       "213       CCAFS,SLC-40          Starlink 15 v1.0 (60 satellites)   \n",
       "215         KSC,LC-39A              SpaceX CRS-21(Dragon C208.1)   \n",
       "217  CCSFS,SLC-40[597]                                     SXM-7   \n",
       "219         KSC,LC-39A                                  NROL-108   \n",
       "\n",
       "               PAYLOADMASS      ORBIT                      CUSTOMER  \\\n",
       "0                      NaN        LEO                        SpaceX   \n",
       "2                      NaN  LEO (ISS)               NASA (COTS) NRO   \n",
       "4    525 kg (1,157 lb)[19]  LEO (ISS)                   NASA (COTS)   \n",
       "6     4,700 kg (10,400 lb)  LEO (ISS)                    NASA (CRS)   \n",
       "7      172 kg (379 lb)[24]        LEO                       Orbcomm   \n",
       "..                     ...        ...                           ...   \n",
       "211    1,192 kg (2,628 lb)        LEO  NASA / NOAA / ESA / EUMETSAT   \n",
       "213  15,600 kg (34,400 lb)        LEO                        SpaceX   \n",
       "215    2,972 kg (6,552 lb)  LEO (ISS)                    NASA (CRS)   \n",
       "217   7,000 kg (15,000 lb)        GTO                     Sirius XM   \n",
       "219             Classified        LEO                           NRO   \n",
       "\n",
       "           LAUNCHOUTCOME             BOOSTERLANDING  \n",
       "0                Success  Failure[9][10](parachute)  \n",
       "2             Success[9]  Failure[9][14](parachute)  \n",
       "4            Success[20]                 No attempt  \n",
       "6                Success                 No attempt  \n",
       "7    Partial failure[25]                 No attempt  \n",
       "..                   ...                        ...  \n",
       "211              Success        Success(ground pad)  \n",
       "213              Success        Success(drone ship)  \n",
       "215              Success        Success(drone ship)  \n",
       "217              Success        Success(drone ship)  \n",
       "219              Success        Success(ground pad)  \n",
       "\n",
       "[114 rows x 11 columns]"
      ]
     },
     "execution_count": 64,
     "metadata": {},
     "output_type": "execute_result"
    }
   ],
   "source": [
    "# Let's print the third table and check its content\n",
    "df_list\n"
   ]
  },
  {
   "cell_type": "markdown",
   "metadata": {},
   "source": [
    "You should able to see the columns names embedded in the table header elements `<th>` as follows:\n"
   ]
  },
  {
   "cell_type": "markdown",
   "metadata": {},
   "source": [
    "```\n",
    "<tr>\n",
    "<th scope=\"col\">Flight No.\n",
    "</th>\n",
    "<th scope=\"col\">Date and<br/>time (<a href=\"/wiki/Coordinated_Universal_Time\" title=\"Coordinated Universal Time\">UTC</a>)\n",
    "</th>\n",
    "<th scope=\"col\"><a href=\"/wiki/List_of_Falcon_9_first-stage_boosters\" title=\"List of Falcon 9 first-stage boosters\">Version,<br/>Booster</a> <sup class=\"reference\" id=\"cite_ref-booster_11-0\"><a href=\"#cite_note-booster-11\">[b]</a></sup>\n",
    "</th>\n",
    "<th scope=\"col\">Launch site\n",
    "</th>\n",
    "<th scope=\"col\">Payload<sup class=\"reference\" id=\"cite_ref-Dragon_12-0\"><a href=\"#cite_note-Dragon-12\">[c]</a></sup>\n",
    "</th>\n",
    "<th scope=\"col\">Payload mass\n",
    "</th>\n",
    "<th scope=\"col\">Orbit\n",
    "</th>\n",
    "<th scope=\"col\">Customer\n",
    "</th>\n",
    "<th scope=\"col\">Launch<br/>outcome\n",
    "</th>\n",
    "<th scope=\"col\"><a href=\"/wiki/Falcon_9_first-stage_landing_tests\" title=\"Falcon 9 first-stage landing tests\">Booster<br/>landing</a>\n",
    "</th></tr>\n",
    "```\n"
   ]
  },
  {
   "cell_type": "markdown",
   "metadata": {},
   "source": [
    "Next, we just need to iterate through the `<th>` elements and apply the provided `extract_column_from_header()` to extract column name one by one\n"
   ]
  },
  {
   "cell_type": "raw",
   "metadata": {},
   "source": [
    "I decided to do this a different way than shown in the lab, because the way shown in the lab is a waste of time. Much easier to do what I did and read the data directly into a pandas dataframe.\n",
    "\n",
    "\n",
    "\n",
    "\n",
    "\n",
    "# Apply find_all() function with `th` element on first_launch_table\n",
    "# Iterate each th element and apply the provided extract_column_from_header() to get a column name\n",
    "# Append the Non-empty column name (`if name is not None and len(name) > 0`) into a list called column_names\n"
   ]
  },
  {
   "cell_type": "markdown",
   "metadata": {},
   "source": [
    "Check the extracted column names\n"
   ]
  },
  {
   "cell_type": "code",
   "execution_count": 65,
   "metadata": {},
   "outputs": [
    {
     "data": {
      "text/plain": [
       "Index(['index', 'FLIGHTNO', 'DATEANDTIMEUTC', 'VERSIONBOOSTERB', 'LAUNCHSITE',\n",
       "       'PAYLOADC', 'PAYLOADMASS', 'ORBIT', 'CUSTOMER', 'LAUNCHOUTCOME',\n",
       "       'BOOSTERLANDING'],\n",
       "      dtype='object')"
      ]
     },
     "execution_count": 65,
     "metadata": {},
     "output_type": "execute_result"
    }
   ],
   "source": [
    "df_list.columns"
   ]
  },
  {
   "cell_type": "markdown",
   "metadata": {},
   "source": [
    "## TASK 3: Create a data frame by parsing the launch HTML tables\n"
   ]
  },
  {
   "cell_type": "markdown",
   "metadata": {},
   "source": [
    "We will create an empty dictionary with keys from the extracted column names in the previous task. Later, this dictionary will be converted into a Pandas dataframe\n"
   ]
  },
  {
   "cell_type": "code",
   "execution_count": null,
   "metadata": {},
   "outputs": [],
   "source": [
    "launch_dict= dict.fromkeys(column_names)\n",
    "\n",
    "# Remove an irrelvant column\n",
    "del launch_dict['Date and time ( )']\n",
    "\n",
    "# Let's initial the launch_dict with each value to be an empty list\n",
    "launch_dict['Flight No.'] = []\n",
    "launch_dict['Launch site'] = []\n",
    "launch_dict['Payload'] = []\n",
    "launch_dict['Payload mass'] = []\n",
    "launch_dict['Orbit'] = []\n",
    "launch_dict['Customer'] = []\n",
    "launch_dict['Launch outcome'] = []\n",
    "# Added some new columns\n",
    "launch_dict['Version Booster']=[]\n",
    "launch_dict['Booster landing']=[]\n",
    "launch_dict['Date']=[]\n",
    "launch_dict['Time']=[]"
   ]
  },
  {
   "cell_type": "markdown",
   "metadata": {},
   "source": [
    "Next, we just need to fill up the `launch_dict` with launch records extracted from table rows.\n"
   ]
  },
  {
   "cell_type": "markdown",
   "metadata": {},
   "source": [
    "Usually, HTML tables in Wiki pages are likely to contain unexpected annotations and other types of noises, such as reference links `B0004.1[8]`, missing values `N/A [e]`, inconsistent formatting, etc.\n"
   ]
  },
  {
   "cell_type": "markdown",
   "metadata": {},
   "source": [
    "To simplify the parsing process, we have provided an incomplete code snippet below to help you to fill up the `launch_dict`. Please complete the following code snippet with TODOs or you can choose to write your own logic to parse all launch tables:\n"
   ]
  },
  {
   "cell_type": "code",
   "execution_count": null,
   "metadata": {},
   "outputs": [],
   "source": [
    "extracted_row = 0\n",
    "#Extract each table \n",
    "for table_number,table in enumerate(soup.find_all('table',\"wikitable plainrowheaders collapsible\")):\n",
    "   # get table row \n",
    "    for rows in table.find_all(\"tr\"):\n",
    "        #check to see if first table heading is as number corresponding to launch a number \n",
    "        if rows.th:\n",
    "            if rows.th.string:\n",
    "                flight_number=rows.th.string.strip()\n",
    "                flag=flight_number.isdigit()\n",
    "        else:\n",
    "            flag=False\n",
    "        #get table element \n",
    "        row=rows.find_all('td')\n",
    "        #if it is number save cells in a dictonary \n",
    "        if flag:\n",
    "            extracted_row += 1\n",
    "            # Flight Number value\n",
    "            # TODO: Append the flight_number into launch_dict with key `Flight No.`\n",
    "            #print(flight_number)\n",
    "            datatimelist=date_time(row[0])\n",
    "            \n",
    "            # Date value\n",
    "            # TODO: Append the date into launch_dict with key `Date`\n",
    "            date = datatimelist[0].strip(',')\n",
    "            #print(date)\n",
    "            \n",
    "            # Time value\n",
    "            # TODO: Append the time into launch_dict with key `Time`\n",
    "            time = datatimelist[1]\n",
    "            #print(time)\n",
    "              \n",
    "            # Booster version\n",
    "            # TODO: Append the bv into launch_dict with key `Version Booster`\n",
    "            bv=booster_version(row[1])\n",
    "            if not(bv):\n",
    "                bv=row[1].a.string\n",
    "            print(bv)\n",
    "            \n",
    "            # Launch Site\n",
    "            # TODO: Append the bv into launch_dict with key `Launch Site`\n",
    "            launch_site = row[2].a.string\n",
    "            #print(launch_site)\n",
    "            \n",
    "            # Payload\n",
    "            # TODO: Append the payload into launch_dict with key `Payload`\n",
    "            payload = row[3].a.string\n",
    "            #print(payload)\n",
    "            \n",
    "            # Payload Mass\n",
    "            # TODO: Append the payload_mass into launch_dict with key `Payload mass`\n",
    "            payload_mass = get_mass(row[4])\n",
    "            #print(payload)\n",
    "            \n",
    "            # Orbit\n",
    "            # TODO: Append the orbit into launch_dict with key `Orbit`\n",
    "            orbit = row[5].a.string\n",
    "            #print(orbit)\n",
    "            \n",
    "            # Customer\n",
    "            # TODO: Append the customer into launch_dict with key `Customer`\n",
    "            customer = row[6].a.string\n",
    "            #print(customer)\n",
    "            \n",
    "            # Launch outcome\n",
    "            # TODO: Append the launch_outcome into launch_dict with key `Launch outcome`\n",
    "            launch_outcome = list(row[7].strings)[0]\n",
    "            #print(launch_outcome)\n",
    "            \n",
    "            # Booster landing\n",
    "            # TODO: Append the launch_outcome into launch_dict with key `Booster landing`\n",
    "            booster_landing = landing_status(row[8])\n",
    "            #print(booster_landing)\n",
    "            "
   ]
  },
  {
   "cell_type": "markdown",
   "metadata": {},
   "source": [
    "After you have fill in the parsed launch record values into `launch_dict`, you can create a dataframe from it.\n"
   ]
  },
  {
   "cell_type": "code",
   "execution_count": 66,
   "metadata": {},
   "outputs": [
    {
     "data": {
      "text/plain": [
       "(114, 11)"
      ]
     },
     "execution_count": 66,
     "metadata": {},
     "output_type": "execute_result"
    }
   ],
   "source": [
    "falcon9_data=df_list\n",
    "falcon9_data.shape"
   ]
  },
  {
   "cell_type": "markdown",
   "metadata": {},
   "source": [
    "We can now export it to a <b>CSV</b> for the next section, but to make the answers consistent and in case you have difficulties finishing this lab.\n",
    "\n",
    "Following labs will be using a provided dataset to make each lab independent.\n"
   ]
  },
  {
   "cell_type": "markdown",
   "metadata": {},
   "source": [
    "<code>df.to_csv('spacex_web_scraped.csv', index=False)</code>\n"
   ]
  },
  {
   "cell_type": "markdown",
   "metadata": {},
   "source": [
    "## Authors\n"
   ]
  },
  {
   "cell_type": "markdown",
   "metadata": {},
   "source": [
    "<a href=\"https://www.linkedin.com/in/yan-luo-96288783/?utm_medium=Exinfluencer&utm_source=Exinfluencer&utm_content=000026UJ&utm_term=10006555&utm_id=NA-SkillsNetwork-Channel-SkillsNetworkCoursesIBMDS0321ENSkillsNetwork26802033-2021-01-01\">Yan Luo</a>\n"
   ]
  },
  {
   "cell_type": "markdown",
   "metadata": {},
   "source": [
    "<a href=\"https://www.linkedin.com/in/nayefaboutayoun/?utm_medium=Exinfluencer&utm_source=Exinfluencer&utm_content=000026UJ&utm_term=10006555&utm_id=NA-SkillsNetwork-Channel-SkillsNetworkCoursesIBMDS0321ENSkillsNetwork26802033-2021-01-01\">Nayef Abou Tayoun</a>\n"
   ]
  },
  {
   "cell_type": "markdown",
   "metadata": {},
   "source": [
    "## Change Log\n"
   ]
  },
  {
   "cell_type": "markdown",
   "metadata": {},
   "source": [
    "| Date (YYYY-MM-DD) | Version | Changed By | Change Description          |\n",
    "| ----------------- | ------- | ---------- | --------------------------- |\n",
    "| 2021-06-09        | 1.0     | Yan Luo    | Tasks updates               |\n",
    "| 2020-11-10        | 1.0     | Nayef      | Created the initial version |\n"
   ]
  },
  {
   "cell_type": "markdown",
   "metadata": {},
   "source": [
    "Copyright © 2021 IBM Corporation. All rights reserved.\n"
   ]
  }
 ],
 "metadata": {
  "kernelspec": {
   "display_name": "base",
   "language": "python",
   "name": "base"
  },
  "language_info": {
   "codemirror_mode": {
    "name": "ipython",
    "version": 3
   },
   "file_extension": ".py",
   "mimetype": "text/x-python",
   "name": "python",
   "nbconvert_exporter": "python",
   "pygments_lexer": "ipython3",
   "version": "3.7.12"
  }
 },
 "nbformat": 4,
 "nbformat_minor": 4
}
